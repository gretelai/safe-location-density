{
 "cells": [
  {
   "cell_type": "code",
   "execution_count": null,
   "id": "7d7b0760",
   "metadata": {},
   "outputs": [],
   "source": [
    "import pandas as pd\n",
    "\n",
    "from density import DensityTransform"
   ]
  },
  {
   "cell_type": "code",
   "execution_count": null,
   "id": "97258521",
   "metadata": {},
   "outputs": [],
   "source": [
    "df = pd.read_csv(\"data/sample-bike-data.csv\")\n",
    "df.head()"
   ]
  },
  {
   "cell_type": "code",
   "execution_count": null,
   "id": "301c028e",
   "metadata": {},
   "outputs": [],
   "source": [
    "# This object takes the following input:\n",
    "# - Source DataFrame\n",
    "# - The column that acts as an identifier (asset, customer, person, etc). It serves as the aggregation key.\n",
    "# - An optional latitude and longitude column name (lat_col, and lng_col), which default to \"lat\" and \"lng\"\n",
    "\n",
    "# Once the object is created, you may fit the model. \n",
    "# The fit() method takes a required H3 resolution: https://h3geo.org/docs/core-library/restable/\n",
    "\n",
    "# You can chain the calls together\n",
    "density = DensityTransform(df=df, id_col=\"bike_id\", lng_col=\"lon\", lat_col=\"lat\").fit(resolution=6)"
   ]
  },
  {
   "cell_type": "code",
   "execution_count": null,
   "id": "38cc54d3",
   "metadata": {},
   "outputs": [],
   "source": [
    "# You can inspect the resolution details. When transform() is called, each geo point will be aggregated into\n",
    "# hex cells that are ``area_km2`` in size.\n",
    "\n",
    "density.resolution"
   ]
  },
  {
   "cell_type": "code",
   "execution_count": null,
   "id": "1c50edb2",
   "metadata": {},
   "outputs": [],
   "source": [
    "density.resolution.to_dict()"
   ]
  },
  {
   "cell_type": "code",
   "execution_count": null,
   "id": "989e83cc",
   "metadata": {},
   "outputs": [],
   "source": [
    "agg_df = density.transform(id_col_suffix=\"_unique_count\")"
   ]
  },
  {
   "cell_type": "code",
   "execution_count": null,
   "id": "1b70b8a2",
   "metadata": {},
   "outputs": [],
   "source": [
    "# The provided identifier is aggregated and uniquely counted into H3 geo grids.\n",
    "# The coordinates are centroids of each cell.\n",
    "\n",
    "agg_df.head()"
   ]
  },
  {
   "cell_type": "code",
   "execution_count": null,
   "id": "390a4846",
   "metadata": {},
   "outputs": [],
   "source": [
    "# You can also transform into a Choropleth map, which plots the various hex cells and shades them in\n",
    "# based on the density of unique IDs within each cell. If you re-fit with different resolutions,\n",
    "# the cells will get larger or smaller.\n",
    "\n",
    "density.transform_plot(bins=8)"
   ]
  },
  {
   "cell_type": "code",
   "execution_count": null,
   "id": "9c8e8047",
   "metadata": {},
   "outputs": [],
   "source": [
    "# Do a full run with a new resolution\n",
    "\n",
    "DensityTransform(df=df, lat_col=\"lat\", lng_col=\"lon\", id_col=\"bike_id\") \\\n",
    "    .fit(resolution=8) \\\n",
    "    .transform_plot(bins=8)"
   ]
  }
 ],
 "metadata": {
  "kernelspec": {
   "display_name": "Python 3 (ipykernel)",
   "language": "python",
   "name": "python3"
  },
  "language_info": {
   "codemirror_mode": {
    "name": "ipython",
    "version": 3
   },
   "file_extension": ".py",
   "mimetype": "text/x-python",
   "name": "python",
   "nbconvert_exporter": "python",
   "pygments_lexer": "ipython3",
   "version": "3.7.9"
  }
 },
 "nbformat": 4,
 "nbformat_minor": 5
}
